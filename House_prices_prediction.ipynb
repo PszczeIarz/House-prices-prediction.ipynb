{
  "nbformat": 4,
  "nbformat_minor": 0,
  "metadata": {
    "colab": {
      "name": "House prices prediction.ipynb",
      "provenance": [],
      "authorship_tag": "ABX9TyOsRm37sAMKVKuNp+pfaUs3",
      "include_colab_link": true
    },
    "kernelspec": {
      "name": "python3",
      "display_name": "Python 3"
    },
    "language_info": {
      "name": "python"
    }
  },
  "cells": [
    {
      "cell_type": "markdown",
      "metadata": {
        "id": "view-in-github",
        "colab_type": "text"
      },
      "source": [
        "<a href=\"https://colab.research.google.com/github/PszczeIarz/House-prices-prediction.ipynb/blob/main/House_prices_prediction.ipynb\" target=\"_parent\"><img src=\"https://colab.research.google.com/assets/colab-badge.svg\" alt=\"Open In Colab\"/></a>"
      ]
    },
    {
      "cell_type": "markdown",
      "source": [
        "#Part 1: Data Preprocessing"
      ],
      "metadata": {
        "id": "NmB-fYfVCRpw"
      }
    },
    {
      "cell_type": "markdown",
      "source": [
        "#Importing the libraries and dataset"
      ],
      "metadata": {
        "id": "Ozf0ortTCRCq"
      }
    },
    {
      "cell_type": "code",
      "source": [
        "import numpy as np\n",
        "import pandas as pd\n",
        "import matplotlib.pyplot as plt\n",
        "import seaborn as sns"
      ],
      "metadata": {
        "id": "Dva0Fw2WCa_L"
      },
      "execution_count": null,
      "outputs": []
    },
    {
      "cell_type": "code",
      "source": [
        "dataset = pd.read_csv('/content/train.csv')"
      ],
      "metadata": {
        "id": "NQJpB4slDpaf"
      },
      "execution_count": null,
      "outputs": []
    }
  ]
}